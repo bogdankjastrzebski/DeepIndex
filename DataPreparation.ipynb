{
 "cells": [
  {
   "cell_type": "code",
   "execution_count": 1,
   "id": "10e330a5-132d-4082-9052-06e0e1d24a15",
   "metadata": {},
   "outputs": [],
   "source": [
    "import pandas as pd\n",
    "import time\n",
    "from tqdm import tqdm, trange"
   ]
  },
  {
   "cell_type": "code",
   "execution_count": 4,
   "id": "bc5f7a18-29c1-4c2e-b50b-222cd775f246",
   "metadata": {},
   "outputs": [],
   "source": [
    "def indexed_abstract_to_string(indexed_abstract):\n",
    "    words = [\"\" for _ in range(indexed_abstract['IndexLength'])]\n",
    "    for k, v in indexed_abstract['InvertedIndex'].items():\n",
    "        for i in v: \n",
    "            words[i] = k\n",
    "    return \" \".join(words)\n",
    "\n",
    "def authors_to_ids(authors):\n",
    "    return [e['id'] for e in authors]"
   ]
  },
  {
   "cell_type": "code",
   "execution_count": 5,
   "id": "dadf712c-7900-4cae-9b49-7d3fc9f5f3c8",
   "metadata": {},
   "outputs": [
    {
     "name": "stderr",
     "output_type": "stream",
     "text": [
      "100%|█████████████████████████████████████████████████████████████████████████████████| 8/8 [19:28<00:00, 146.05s/it]\n"
     ]
    }
   ],
   "source": [
    "cols = ['id', 'title', 'indexed_abstract', 'authors', 'references']\n",
    "\n",
    "for name in tqdm([ \"LLL\", \"LLR\", \"LRL\", \"LRR\", \n",
    "                   \"RLL\", \"RLR\", \"RRL\", \"RRR\"]):\n",
    "    df = None\n",
    "    df = pd.read_json(f\"./data/archive/{name}.json\")\n",
    "    df = df[~df[cols].isna().any(axis=1)]\n",
    "    df['abstract']   = df.indexed_abstract.map(indexed_abstract_to_string)\n",
    "    df['author_ids'] = df.authors.map(authors_to_ids)\n",
    "    df[['id', 'author_ids', 'title', 'abstract', 'references']].to_parquet(f'./data/{name}.parquet')"
   ]
  },
  {
   "cell_type": "code",
   "execution_count": 2,
   "id": "054a12df-3852-4c58-a76e-3926aa2f573b",
   "metadata": {},
   "outputs": [
    {
     "name": "stderr",
     "output_type": "stream",
     "text": [
      "100%|██████████████████████████████████████████████████████████████████████████████████| 8/8 [00:34<00:00,  4.28s/it]\n"
     ]
    }
   ],
   "source": [
    "dfs = [pd.read_parquet(f'./data/{name}.parquet') for name in tqdm([ \"LLL\", \"LLR\", \"LRL\", \"LRR\", \n",
    "                                                                    \"RLL\", \"RLR\", \"RRL\", \"RRR\"])]"
   ]
  },
  {
   "cell_type": "code",
   "execution_count": 10,
   "id": "35ad4e74-8d38-4f6e-b89b-4ca3855c8c80",
   "metadata": {},
   "outputs": [
    {
     "name": "stderr",
     "output_type": "stream",
     "text": [
      "  0%|                                                                                          | 0/7 [00:00<?, ?it/s]/tmp/ipykernel_24541/2641661376.py:3: FutureWarning: The frame.append method is deprecated and will be removed from pandas in a future version. Use pandas.concat instead.\n",
      "  df = df.append(d, ignore_index=True)\n",
      "100%|██████████████████████████████████████████████████████████████████████████████████| 7/7 [00:01<00:00,  4.48it/s]\n"
     ]
    }
   ],
   "source": [
    "df = dfs[0]\n",
    "for d in tqdm(dfs[1:]):\n",
    "    df = df.append(d, ignore_index=True)"
   ]
  },
  {
   "cell_type": "code",
   "execution_count": 13,
   "id": "d96d4c5d-ff0a-4a69-bc0b-f1b86b06738c",
   "metadata": {},
   "outputs": [],
   "source": [
    "df.to_parquet(\"data.parquet\")"
   ]
  },
  {
   "cell_type": "code",
   "execution_count": null,
   "id": "0cdc3cfc-9e8c-485c-9032-6137cedfe8c8",
   "metadata": {},
   "outputs": [],
   "source": []
  }
 ],
 "metadata": {
  "kernelspec": {
   "display_name": "Python 3 (ipykernel)",
   "language": "python",
   "name": "python3"
  },
  "language_info": {
   "codemirror_mode": {
    "name": "ipython",
    "version": 3
   },
   "file_extension": ".py",
   "mimetype": "text/x-python",
   "name": "python",
   "nbconvert_exporter": "python",
   "pygments_lexer": "ipython3",
   "version": "3.10.6"
  }
 },
 "nbformat": 4,
 "nbformat_minor": 5
}
