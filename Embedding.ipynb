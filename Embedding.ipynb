{
 "cells": [
  {
   "cell_type": "code",
   "execution_count": 2,
   "id": "de2916a1-8efe-4d91-b59f-13eaa9c40849",
   "metadata": {},
   "outputs": [],
   "source": [
    "import pandas as pd\n",
    "import numpy as np\n",
    "import matplotlib.pyplot as plt\n",
    "import torch"
   ]
  },
  {
   "cell_type": "code",
   "execution_count": 5,
   "id": "05a3449e-bfe9-4deb-b95f-ef28b7bc4b85",
   "metadata": {},
   "outputs": [],
   "source": [
    "df = pd.read_parquet(\"./data/data.parquet\")"
   ]
  },
  {
   "cell_type": "code",
   "execution_count": 6,
   "id": "5ab0b51e-5177-4b75-a564-b38dedb791b6",
   "metadata": {},
   "outputs": [],
   "source": [
    "unique_ids = set(df.id.unique())\n",
    "observations = (\n",
    "    df\n",
    "    .pipe(\n",
    "        lambda x: x.assign(\n",
    "            refs=x.references.map(lambda x: [x for x in x if x in unique_ids])\n",
    "        )\n",
    "    )\n",
    "    .apply(\n",
    "        lambda x:\n",
    "           [(int(x['id']), e) for e in x['refs']]\n",
    "           if ~np.isnan(x['refs']).any() and len(x['refs']) > 0\n",
    "           else float('nan'),\n",
    "        axis=1\n",
    "    )\n",
    "    .pipe(lambda x: x[~x.isna()])\n",
    "    .pipe(lambda x: np.concatenate(x.values))\n",
    ")"
   ]
  },
  {
   "cell_type": "code",
   "execution_count": 11,
   "id": "aa1b30dd-d6c5-4a63-8e6d-d4de654cfc76",
   "metadata": {},
   "outputs": [],
   "source": [
    "# observations = torch.tensor(observations)"
   ]
  },
  {
   "cell_type": "code",
   "execution_count": 15,
   "id": "c3c93670-c60e-47d4-9479-823231459c7a",
   "metadata": {},
   "outputs": [],
   "source": [
    "# torch.save(observations, 'data/articles.pt')"
   ]
  },
  {
   "cell_type": "code",
   "execution_count": 39,
   "id": "98b223dc-633f-4a43-aae6-6ded8063751b",
   "metadata": {},
   "outputs": [],
   "source": [
    "observations = torch.load('data/articles.pt')"
   ]
  },
  {
   "cell_type": "code",
   "execution_count": 17,
   "id": "2f9ab658-448d-42bc-84ba-9993cbd70c95",
   "metadata": {},
   "outputs": [],
   "source": [
    "t0 = observations[:, 0]\n",
    "t1 = observations[:, 1]"
   ]
  },
  {
   "cell_type": "code",
   "execution_count": null,
   "id": "03b1d9d0-332e-4db8-b24f-13733bc82b85",
   "metadata": {},
   "outputs": [],
   "source": []
  },
  {
   "cell_type": "code",
   "execution_count": 48,
   "id": "96cb9b48-a148-4c05-902f-bcd4433a47e5",
   "metadata": {},
   "outputs": [],
   "source": [
    "def transform_unique(t):\n",
    "    unique = {e: i for i, e in enumerate(t.unique().sort()[0].numpy())}\n",
    "    t = t.clone()\n",
    "    t.apply_(lambda x: unique[x])\n",
    "    return t, unique"
   ]
  },
  {
   "cell_type": "code",
   "execution_count": 49,
   "id": "b182c116-36f1-4979-9977-7726f47d8088",
   "metadata": {},
   "outputs": [],
   "source": [
    "# X, transform = transform_unique(observations)"
   ]
  },
  {
   "cell_type": "code",
   "execution_count": 51,
   "id": "a5703f78-420e-40af-a9c8-7b7163bddabc",
   "metadata": {},
   "outputs": [],
   "source": [
    "# torch.save((X, transform), 'data/articles_prepared.pt')"
   ]
  },
  {
   "cell_type": "code",
   "execution_count": null,
   "id": "94bb363e-a7b1-4798-a8b4-a72921e97ff1",
   "metadata": {},
   "outputs": [],
   "source": [
    "X, transform = torch.load('data/articles_prepared.pt')"
   ]
  },
  {
   "cell_type": "code",
   "execution_count": 8,
   "id": "a8fe2c80-5ec2-4182-9b35-a317b566248b",
   "metadata": {},
   "outputs": [],
   "source": [
    "class SparseMatrix(torch.utils.data.Dataset):\n",
    "    def __init__(self, ls, rs, v):\n",
    "        self.ls = ls \n",
    "        self.rs = rs\n",
    "        self.v  = v\n",
    "        self.len = v.shape[0]\n",
    "        \n",
    "    def __getitem__(self, idx):\n",
    "        return self.ls[idx], self.rs[idx], self.v[idx]\n",
    "    \n",
    "    def __len__(self):\n",
    "        return self.len "
   ]
  },
  {
   "cell_type": "code",
   "execution_count": 136,
   "id": "52e88d02-f5bd-45bc-9a1c-6b4b1ae9758c",
   "metadata": {},
   "outputs": [],
   "source": [
    "class EmbeddingWithBias(torch.nn.Module):\n",
    "    def __init__(self, n, embedding_dim):\n",
    "        super(EmbeddingWithBias, self).__init__()\n",
    "        \n",
    "        self.embedding_dim = embedding_dim \n",
    "        self.shape = (n, embedding_dim)\n",
    "        self.W = torch.nn.Embedding(n, embedding_dim)\n",
    "        self.b = torch.nn.Embedding(n, 1)\n",
    "        \n",
    "    def forward(self, idx):\n",
    "        return self.W[idx], self.b[idx]\n",
    "\n",
    "class MatrixFactorization(torch.nn.Module):\n",
    "    def __init__(self, n, m, embedding_dim): \n",
    "        super(MatrixFactorization, self).__init__()\n",
    "        self.embedding_dim = embedding_dim\n",
    "        self.shape = (n, m, embedding_dim)\n",
    "        self.L = EmbeddingWithBias(n, embedding_dim)\n",
    "        self.R = EmbeddingWithBias(m, embedding_dim)\n",
    "        \n",
    "    def forward(self, ls, rs):\n",
    "        \n",
    "        LW, Lb = self.L(ls)\n",
    "        RW, Rb = slef.R(rs)\n",
    "        \n",
    "        return (LW * RW).sum(1) + Lb + Rb\n",
    "    \n",
    "class SymmetricMatrixFactorization(torch.nn.Module):\n",
    "    def __init__(self, n, embedding_dim):\n",
    "        super(SymmetricMatrixFactorization, self).__init__()\n",
    "        self.embedding_dim = embedding_dim\n",
    "        self.shape = (n, embedding_dim)\n",
    "        self.embeddings = EmbeddingWithBias(n, embedding_dim)\n",
    "        \n",
    "    def forward(self, ls, rs):\n",
    "        LW, Lb = self.L(ls)\n",
    "        RW, Rb = slef.R(rs)\n",
    "        \n",
    "        return (LW * RW).sum(1) + Lb + Rb"
   ]
  },
  {
   "cell_type": "code",
   "execution_count": null,
   "id": "83a36d2e-7e67-4030-98a8-f0e9a48cef2f",
   "metadata": {},
   "outputs": [],
   "source": []
  }
 ],
 "metadata": {
  "kernelspec": {
   "display_name": "Python 3 (ipykernel)",
   "language": "python",
   "name": "python3"
  },
  "language_info": {
   "codemirror_mode": {
    "name": "ipython",
    "version": 3
   },
   "file_extension": ".py",
   "mimetype": "text/x-python",
   "name": "python",
   "nbconvert_exporter": "python",
   "pygments_lexer": "ipython3",
   "version": "3.10.6"
  }
 },
 "nbformat": 4,
 "nbformat_minor": 5
}
